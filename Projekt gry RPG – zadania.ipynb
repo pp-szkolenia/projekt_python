{
 "cells": [
  {
   "cell_type": "markdown",
   "id": "d3a4aadd-ced1-4b14-859a-4797589b106b",
   "metadata": {},
   "source": [
    "# Gra RPG – projekt"
   ]
  },
  {
   "cell_type": "markdown",
   "id": "0686551e-550c-4471-b9e7-27dfe0718b8e",
   "metadata": {},
   "source": [
    "## Przygotowanie projektu"
   ]
  },
  {
   "cell_type": "markdown",
   "id": "be02b914-3fbd-443f-b5c9-8635689ee9f9",
   "metadata": {},
   "source": [
    "**Zadanie 0**\n",
    "\n",
    "Skonfiguruj projekt:\n",
    "- Stwórz folder gdzie się on znajdzie\n",
    "- Stwórz środowisko wirtualne w terminalu\n",
    "- Stwórz projekt w PyCharmie\n",
    "- Stwórz następującą strukturę plików\n",
    "\n",
    "\n",
    "```\n",
    "Projekt/\n",
    "├── characters/\n",
    "│   ├── professions.py\n",
    "│   └── races.py\n",
    "│\n",
    "├── data/\n",
    "│   └── tasks_db.json\n",
    "│\n",
    "├── adventure.py\n",
    "├── initialization.py\n",
    "├── logger.py\n",
    "├── main.py\n",
    "└── utils.py\n",
    "```\n",
    "\n",
    "W folderze `data/` umieść plik `tasks_db.json`. Pozostałe pliki pozostaw puste."
   ]
  },
  {
   "cell_type": "markdown",
   "id": "39d4a53e-f9d2-4fd2-9233-034587cb8065",
   "metadata": {},
   "source": [
    "## Klasy postaci (profesje i rasy)"
   ]
  },
  {
   "cell_type": "markdown",
   "id": "99dc896b-3d66-4238-afd5-3520e92c3e33",
   "metadata": {},
   "source": [
    "**Zadanie 1**\n",
    "\n",
    "Stwórz klasę `Character`. Powinna ona posiadać:\n",
    "- atrybut klasy `max_hp` równy 10.0\n",
    "- atrybuty `name` i `race` przyjmowane przez argumenty\n",
    "- atrybuty `hp` (8.0) oraz `strength`, `intelligence` i `faith` (4) z wartościami przypisanymi na sztywno\n",
    "- metodę `to_json()`, która zwraca słownik z wszystkimi atrybutami obiektu. Klucze tego słownika powinny być stringami a wartości stringami lub liczbami\n",
    "- `property` `is_alive`, które zwróci informację czy postać żyje (ma dodatnie `hp`)\n",
    "- metody `__str__` i `__repr__`. Pierwsza z nich powinna zwracać imię postaci a druga wartość w stylu: `Boromir - Human Warrior`\n",
    "- metodę `take_damage()`, która przyjmie ilość obrażeń i pomniejszy `hp` o tyle. `hp` nie może spaść poniżej 0\n",
    "- metodę `heal()`, która przyjmie ilość punktów życia i powiększy `hp` o tyle. `hp` nie może przekroczyć `max_hp`\n",
    "\n",
    "\n",
    "Na koniec stwórz kilka instancji tej klasy i przetestuj wszystki funkcjonalności.\n",
    "\n",
    "---"
   ]
  },
  {
   "cell_type": "markdown",
   "id": "5865618c-39cb-4514-87e4-5fa0ef69cf06",
   "metadata": {},
   "source": [
    "**Zadanie 2**\n",
    "\n",
    "Stwórz następujące klasy:\n",
    "\n",
    "`Warrior`\n",
    "- niech dziedziczy po `Character`\n",
    "- powinien mieć bonus +2 do siły i -1 do inteligencji\n",
    "- napisz metodę `expected_contribution()`, która na podstawie typu zadania obliczy oczekiwany wkład w zadanie. Dla tasków typu `combat` powinna to być wartość siły + oczekiwany rzut kością a dla innych typów 2 + oczekiwany rzut kością\n",
    "- napisz metodę `contribute()`, która wyznaczy faktyczny wkład w wykonanie zadania uwzględniając rzut kością\n",
    "\n",
    "\n",
    "`Wizard`\n",
    "- niech dziedziczy po `Character`\n",
    "- powinien mieć bonus -1 do siły, +2 do inteligencji i +1 do wiary a także atrybut `mana` równy 5\n",
    "- napisz metodę `expected_contribution()`, która na podstawie typu zadania obliczy oczekiwany wkład w zadanie. Dla tasków typu `magic` powinien być obliczany ze wzoru `mana // 2 + intelligence + expected_dice_roll` a dla innych typów niech będzie równy 2 + rzut kością\n",
    "- napisz metodę `contribute()`, która wyznaczy faktyczny wkład w wykonanie zadania uwzględniając rzut kością\n",
    "- napisz metodę `__spend_mana()`, która odejmie 1 od many czarodzieja. Wywołaj ją w metodzie `contribute()` \n",
    "\n",
    "\n",
    "`Priest`\n",
    "- niech dziedziczy po `Character`\n",
    "- powinien mieć bonus -2 do siły, +1 do inteligencji i +3 do wiary a także atrybut `mana` równy 5.0\n",
    "- napisz metodę `expected_contribution()`, która na podstawie typu zadania obliczy oczekiwany wkład w zadanie. Dla tasków typu `holy` oraz `support` powinna to być wartość wiary + oczekiwany rzut kością a dla innych typów 1 + oczekiwany rzut kością\n",
    "- napisz metodę `contribute()`, która wyznaczy faktyczny wkład w wykonanie zadania uwzględniając rzut kością\n",
    "- napisz metodę `heal_ally()`, która przyjmie jako argument sojusznika należącego do drużyny i jeżeli kapłan ma dodatnią ilość many to (1) wyznaczy `heal_amount` równe `faith` / 5 (2) uleczy sojusznika tą ilością punktów życia i (3) pomniejszy manę o 10% z `heal_amount`\n",
    "\n",
    "\n",
    "Na koniec stwórz instancje tych klas i przetestuj wszystkie funkcjonalności.\n",
    "\n",
    "---"
   ]
  },
  {
   "cell_type": "markdown",
   "id": "a3de2a2a-3e46-4dba-a880-cb392ccb2d3d",
   "metadata": {},
   "source": [
    "**Zadanie 3**\n",
    "\n",
    "Stwórz klasę `Race`, która będzie miała następujące atrybuty:\n",
    "- `name`\n",
    "- `strength_mod` (modyfikator siły)\n",
    "- `intelligence_mod` (modyfikator inteligencji)\n",
    "- `faith_mod` (modyfikator wiary)\n",
    "\n",
    "a także metodę `modify_statistics()`, która przyjmie słownik `stats` z kluczami: `strength`, `intelligence` i `faith` i nadpisze wartości tego słownika zgodnie z modyfikatorami będącymi w atrybutach klasy\n",
    "\n",
    "Na koniec stwórz instancję tej klasy i przetestuj metodę `modify_statistics()`.\n",
    "\n",
    "---"
   ]
  },
  {
   "cell_type": "markdown",
   "id": "2f9d13e3-1e24-465d-bffe-3fdb619c949d",
   "metadata": {},
   "source": [
    "**Zadanie 4**\n",
    "\n",
    "Stwórz klasy `Human`, `Elf` i `Orc`, które będą dziedziczyć po `Race`. W metodzie `__init__` każda z tych klas powinna przekazywać do inita klasy bazowej stosowne argumenty. Przyjmij że:\n",
    "\n",
    "`Human`: siła +1, inteligencja +1, wiara +1\n",
    "\n",
    "`Elf`: siła -1, inteligencja +2\n",
    "\n",
    "`Orc`: siła +2, inteligencja -1, wiara -1\n",
    "\n",
    "Na koniec przetestuj utworzone klasy.\n",
    "\n",
    "---"
   ]
  },
  {
   "cell_type": "markdown",
   "id": "2fe89409-8834-4c94-8baf-2357a0939f26",
   "metadata": {},
   "source": [
    "**Zadanie 5**\n",
    "\n",
    "Wróć do klasy `Character` i utwórz metodę `_apply_race()`, która zaaplikuje do postaci modyfikatory wynikające z rasy.\n",
    "\n",
    "W jaki sposób zaimplementujesz tę metodę? Dlaczego jest ona chroniona a nie publiczna ani prywatna?\n",
    "\n",
    "---"
   ]
  },
  {
   "cell_type": "markdown",
   "id": "a933aeae-4d52-4b38-aa15-d7d59ae6f49d",
   "metadata": {},
   "source": [
    "## Inicjalizacja stanu gry"
   ]
  },
  {
   "cell_type": "markdown",
   "id": "8e3f1e8f-15d5-4caa-ab78-f90a15e4a6cf",
   "metadata": {},
   "source": [
    "**Zadanie 6**\n",
    "\n",
    "W pliku `adventure.py` napisz klasę `Task`, która będzie miała następujące atrybuty:\n",
    "- `name`\n",
    "- `task_type`\n",
    "- `difficulty`\n",
    "- `success_damage`\n",
    "- `fail_damage`\n",
    "- `completed`\n",
    "- `character_assigned`\n",
    "\n",
    "\n",
    "Przetestuj tę klasę tworząc kilka zadań.\n",
    "\n",
    "---"
   ]
  },
  {
   "cell_type": "markdown",
   "id": "99d3939e-a946-4e31-9903-1963bdfe8072",
   "metadata": {},
   "source": [
    "**Zadanie 7**\n",
    "\n",
    "W pliku `main.py` stwórz zmienną `team_composition`, która będzie określała strukturę drużyny. Powinien to być słownik, którego klucze to klasy postaci (profesje) a jego wartości to liczebność poszczególnych profesji.\n",
    "\n",
    "Na początek spróbuj następującej struktury:\n",
    "- 2 wojowników\n",
    "- 2 czarodziejów\n",
    "- 1 kapłan\n",
    "\n",
    "\n",
    "Stwórz też zmienną `available_races`, która będzie przechowywać wszystki rasy, jakie mamy w grze. Określ również liczbe zadań do wykonani (np. 5).\n",
    "\n",
    "---"
   ]
  },
  {
   "cell_type": "markdown",
   "id": "397dd985-a8e9-4844-9309-cdd4dfe1e4c8",
   "metadata": {},
   "source": [
    "**Zadanie 8**\n",
    "\n",
    "W pliku `initialization.py` napisz funkcje `initialize_team()` oraz `initialize_tasks()`.\n",
    "\n",
    "Powinny one tworzyć listę postaci oraz listę zadań na podstawie informacji wejściowych utworzonych w poprzednim zadaniu. Do nadania postaciom imion wykorzystaj bibliotekę `fictional_names`. Rasa powinna być losowa.\n",
    "\n",
    "Zadania wczytaj z pliku `tasks_db.json` a następnie wybierz losową próbkę tylu zadań ile wynika z wcześniej utworzonej zmiennej. Na podstawie listy słowników utwórz listę instancji klasy `Task` i zwróć ją.\n",
    "\n",
    "Wywołaj obie funkcje w `main.py` i przechwyć ich output.\n",
    "\n",
    "---"
   ]
  },
  {
   "cell_type": "markdown",
   "id": "58bff79a-4304-4a2e-99f8-3ccb36607338",
   "metadata": {},
   "source": [
    "## Implementacja gry"
   ]
  },
  {
   "cell_type": "markdown",
   "id": "84d7b0d8-e25e-4d1e-a1eb-4bbb1e1f8bb0",
   "metadata": {},
   "source": [
    "**Zadanie 9**\n",
    "\n",
    "W pliku `adventure.py` napisz klasę `Adventure`, która będzie posiadała następujące atrybuty:\n",
    "- `team`\n",
    "- `tasks`\n",
    "\n",
    "oraz następujące `property`:\n",
    "- `all_alive`\n",
    "- `__lowest_hp_character`\n",
    "\n",
    "a także metodę publiczną `run()`.\n",
    "\n",
    "\n",
    "Utwórz instancję tej klasy w `main.py` i wywołaj `run()`.\n",
    "\n",
    "---"
   ]
  },
  {
   "cell_type": "markdown",
   "id": "12140924-1219-4031-94c0-d5c548b93a80",
   "metadata": {},
   "source": [
    "**Zadanie 10**\n",
    "\n",
    "Zaimplementuj metodę `run()`. Powinna ona przeiterować po wszystkich zadaniach i dla każdego z nich wykonać następujące czynności:\n",
    "- Sprawdzić czy wszyscy bohaterowie żyją. Jeśli nie to wychodzimy z pętli\n",
    "- Wybrać najbardziej odpowiednią postać do wykonania zadania. Wybór tej postaci powinien być realizaowany przez osobną metodę `__select_character_for_task()`\n",
    "- Obliczyć `total_score` jako wielkość kontrybucji wybranego bohatera oraz dodatkowo +1 od pozostałych postaci z drużyny\n",
    "- Przypisać do zadania nazwę wybranej postaci (do atrybutu `character_assigned`)\n",
    "- W zależności od relacji między `total_score` a trudnością zadania wywołać jedną z metod: `__handle_victory()`, `__handle_defeat()` lub `__handle_draw()`. Zdefiniuj te metody, ale na razie ich nie implementuj (`pass`)\n",
    "- Jeśli `hp` bohatera spadło do 0 wyświetl odpowiedni komunikat i wyjdź z pętli. Oznacza to koniec gry i porażkę drużyny\n",
    "- Wywołaj metodę `__heal_allies()`, ale na razie jej nie implementuj\n",
    "\n",
    "\n",
    "Po zakończeniu pętli (wykonaniu wszystkich zadań) upewnij się, że wszyscy nadal żyją i jeśli tak to wyprintuj odpowiedni komunikat i ogłoś zwycięstwo.\n",
    "\n",
    "---"
   ]
  },
  {
   "cell_type": "markdown",
   "id": "0f3f1932-5f54-4a39-9655-e126216e8663",
   "metadata": {},
   "source": [
    "**Zadanie 11**\n",
    "\n",
    "Zaimplementuj metody:\n",
    "\n",
    "`__handle_victory()`\n",
    "- wyświetl komunikat o powodzeniu wykonania zadania przez postać\n",
    "- ustaw wartość atrybutu `completed` na `True`\n",
    "- przyjmij odpowiednią ilość obrażeń przez postać\n",
    "\n",
    "\n",
    "`__handle_defeat()`\n",
    "- wyświetl komunikat o niepowodzeniu wykonania zadania przez postać\n",
    "- ustaw wartość atrybutu `completed` na `False`\n",
    "- przyjmij odpowiednią ilość obrażeń przez postać\n",
    "\n",
    "\n",
    "`__handle_draw()`\n",
    "- wyświetl komunikat o nierozstrzygnięciu wykonania zadania przez postać\n",
    "- pamiętaj, że w tej sytuacji nie należy wywoływać metody `__heal_allies()` – nikt nie ucierpiał, więc kapłan nie będzie nikogo leczył\n",
    "\n",
    "---"
   ]
  },
  {
   "cell_type": "markdown",
   "id": "7f8c9d88-ff18-4b79-9775-47ef016a9898",
   "metadata": {},
   "source": [
    "**Zadanie 12**\n",
    "\n",
    "Zaimplementuj metodę `__heal_allies()`.\n",
    "\n",
    "Należy znaleźć wszystkich kapłanów w drużynie a następnie każdy z nich powinien namierzyć postać o najniższym `hp` i wywołać swoją metodę `heal_ally()`.\n",
    "\n",
    "---"
   ]
  },
  {
   "cell_type": "markdown",
   "id": "bdbd5949-bd78-44f9-9372-9a2ec479ceac",
   "metadata": {},
   "source": [
    "## Logowanie"
   ]
  },
  {
   "cell_type": "markdown",
   "id": "cd6b1b27-2cdc-4e84-b1be-c6b933379a27",
   "metadata": {},
   "source": [
    "**Zadanie 13**\n",
    "\n",
    "Zdefiniuj klasę `Logger`. W jej metodzie `__init__()` należy zainicjować atrybut `log`, który będzie słownikiem składającym się z kluczy:\n",
    "- `init` (stan początkowy - słownik z listami postaci i zadań)\n",
    "- `adventure` (początkowo pusta lista)\n",
    "- `final_state` (początkowo `None`)\n",
    "\n",
    "Zamianę listy postaci oraz tasków zaimplementuj osobnymi metodami.\n",
    "\n",
    "---"
   ]
  },
  {
   "cell_type": "markdown",
   "id": "83d38d9c-b893-4d66-aa9e-81b2335d7c6c",
   "metadata": {},
   "source": [
    "**Zadanie 14**\n",
    "\n",
    "Zaimplementuj metodę `log_event`, która przyjmie słownik `event_dict` i doda go do listy pod kluczem `adventure`.\n",
    "\n",
    "---"
   ]
  },
  {
   "cell_type": "markdown",
   "id": "c9fe6bc4-413f-4c2b-b6c2-7527bf7ddb53",
   "metadata": {},
   "source": [
    "**Zadanie 15**\n",
    "\n",
    "Zaimplementuj metodę `generate_final_state()`, która pod kluczem `final_state` zapisze finalny stan czyli słownik analogiczny jak stan początkowy ale dodatkowo dla każdego bohatera należy dodać informację czy przeżył (`is_alive`).\n",
    "\n",
    "---"
   ]
  },
  {
   "cell_type": "markdown",
   "id": "ed261fe7-7116-44a0-8ed5-2e8ccbfa4f7d",
   "metadata": {},
   "source": [
    "**Zadanie 16**\n",
    "\n",
    "Zaimplementuj logowanie czyli zapis poszczególnych wydarzeń do loga. Aby to osiągnąć utwórz `logger` w `main.py`, przekaż go do klasy `Adventure` (niech będzie jej atrybutem) a następnie przy każdym istotnym wydarzeniu zapisz je do logu. Na sam koniec (już po wywołaniu `adventure.run()`) zapisz log do pliku `.json`\n",
    "\n",
    "---"
   ]
  },
  {
   "cell_type": "code",
   "execution_count": null,
   "id": "22fae52c-3e45-4509-9d59-7ee6f75507fa",
   "metadata": {},
   "outputs": [],
   "source": []
  }
 ],
 "metadata": {
  "kernelspec": {
   "display_name": "Python 3 (ipykernel)",
   "language": "python",
   "name": "python3"
  },
  "language_info": {
   "codemirror_mode": {
    "name": "ipython",
    "version": 3
   },
   "file_extension": ".py",
   "mimetype": "text/x-python",
   "name": "python",
   "nbconvert_exporter": "python",
   "pygments_lexer": "ipython3",
   "version": "3.12.7"
  }
 },
 "nbformat": 4,
 "nbformat_minor": 5
}
